{
 "cells": [
  {
   "cell_type": "markdown",
   "metadata": {},
   "source": [
    "# Guided Project: Profitable App Profiles for the App Store and Google Play Markets\n",
    "\n",
    "## Introduction\n",
    "The purpose of this project is to analyze data and identify categories of free apps that are likely to attract more users on both Google Play Store and App Store. For simplicity, I will focus on apps that are designed for an English-speaking audience.\n",
    "\n",
    "I downloaded the data from Kaggle. The dataset for 10,000 Android apps from Google Play can be found [here](https://www.kaggle.com/lava18/google-play-store-apps). The dataset for 7,000 iOS apps from the App Store can be found [here](https://www.kaggle.com/ramamet4/app-store-apple-data-set-10k-apps).\n",
    "\n",
    "## Exploration of the Data"
   ]
  },
  {
   "cell_type": "code",
   "execution_count": 215,
   "metadata": {
    "collapsed": true
   },
   "outputs": [],
   "source": [
    "#Importing sample data of google and apple apps\n",
    "open_google = open('googleplaystore.csv')\n",
    "open_apple = open('AppleStore.csv')\n",
    "\n",
    "from csv import reader\n",
    "\n",
    "read_google = reader(open_google)\n",
    "read_apple = reader(open_apple)\n",
    "\n",
    "google_list = list(read_google)\n",
    "apple_list = list(read_apple)\n",
    "\n",
    "#Seperate header row\n",
    "google_header = google_list[0]\n",
    "google_apps = google_list[1:]\n",
    "\n",
    "apple_header = apple_list[0]\n",
    "apple_apps = apple_list[1:]\n"
   ]
  },
  {
   "cell_type": "markdown",
   "metadata": {},
   "source": [
    "To browse the data, I borrowed the $\\color{blue}{\\text{explore_data}}$(dataset,start,end,rows_and_columns = False) custom function from Dataquest; $\\color{blue}{\\text{explore_data}}$ prints out user selected rows from a specified dataset and displays the number of rows and columns if $\\color{red}{\\text{rows_and_columns}}$ is **True**. "
   ]
  },
  {
   "cell_type": "code",
   "execution_count": 216,
   "metadata": {
    "collapsed": false
   },
   "outputs": [
    {
     "name": "stdout",
     "output_type": "stream",
     "text": [
      "['App', 'Category', 'Rating', 'Reviews', 'Size', 'Installs', 'Type', 'Price', 'Content Rating', 'Genres', 'Last Updated', 'Current Ver', 'Android Ver']\n",
      "\n",
      "\n",
      "['Photo Editor & Candy Camera & Grid & ScrapBook', 'ART_AND_DESIGN', '4.1', '159', '19M', '10,000+', 'Free', '0', 'Everyone', 'Art & Design', 'January 7, 2018', '1.0.0', '4.0.3 and up']\n",
      "\n",
      "\n",
      "['Coloring book moana', 'ART_AND_DESIGN', '3.9', '967', '14M', '500,000+', 'Free', '0', 'Everyone', 'Art & Design;Pretend Play', 'January 15, 2018', '2.0.0', '4.0.3 and up']\n",
      "\n",
      "\n",
      "['U Launcher Lite – FREE Live Cool Themes, Hide Apps', 'ART_AND_DESIGN', '4.7', '87510', '8.7M', '5,000,000+', 'Free', '0', 'Everyone', 'Art & Design', 'August 1, 2018', '1.2.4', '4.0.3 and up']\n",
      "\n",
      "\n",
      "Number of rows: 10841\n",
      "Number of columns: 13\n"
     ]
    }
   ],
   "source": [
    "def explore_data(dataset, start, end, rows_and_columns=False):\n",
    "    dataset_slice = dataset[start:end]    \n",
    "    for row in dataset_slice:\n",
    "        print(row)\n",
    "        print('\\n') # adds a new (empty) line after each row\n",
    "\n",
    "    if rows_and_columns:\n",
    "        print('Number of rows:', len(dataset))\n",
    "        print('Number of columns:', len(dataset[0]))\n",
    "\n",
    "print(google_header)   \n",
    "print('\\n')\n",
    "explore_data(google_apps, 0,3,True)"
   ]
  },
  {
   "cell_type": "markdown",
   "metadata": {},
   "source": [
    "**Tabular Description of Google Apps Columns**\n",
    "\n",
    "|Column|Description|\n",
    "|:----:|:---------:|\n",
    "|App|Application Name|\n",
    "|Category|Category the app belongs to|\n",
    "|Rating|Overall user rating of the app(as when scraped)|\n",
    "|Reviews|Number of user reviews for the app(as when scraped)|\n",
    "|Size|Size of the app(as when scraped)|\n",
    "|Installs|Number of user downloads/installs for the app(as when scraped|\n",
    "|Type|Paid or Free|\n",
    "|Price|Price of the app(as when scraped)|\n",
    "|Content Rating|Age group the app is targeted at - Children/Mature 21+/Adult|\n",
    "|Genres|An app can belong to multiple genres(apart from its main category)|\n",
    "|Last Updated|Date when the app was last updated on Play Store(as when scraped)|\n",
    "|Current Ver|Current version of the app available on Play Store(as when scraped)|\n",
    "|Android Ver|Min required Android version(as when scraped)|\n"
   ]
  },
  {
   "cell_type": "code",
   "execution_count": 217,
   "metadata": {
    "collapsed": false
   },
   "outputs": [
    {
     "name": "stdout",
     "output_type": "stream",
     "text": [
      "\n",
      "\n",
      "['id', 'track_name', 'size_bytes', 'currency', 'price', 'rating_count_tot', 'rating_count_ver', 'user_rating', 'user_rating_ver', 'ver', 'cont_rating', 'prime_genre', 'sup_devices.num', 'ipadSc_urls.num', 'lang.num', 'vpp_lic']\n",
      "\n",
      "\n",
      "['284882215', 'Facebook', '389879808', 'USD', '0.0', '2974676', '212', '3.5', '3.5', '95.0', '4+', 'Social Networking', '37', '1', '29', '1']\n",
      "\n",
      "\n",
      "['389801252', 'Instagram', '113954816', 'USD', '0.0', '2161558', '1289', '4.5', '4.0', '10.23', '12+', 'Photo & Video', '37', '0', '29', '1']\n",
      "\n",
      "\n",
      "['529479190', 'Clash of Clans', '116476928', 'USD', '0.0', '2130805', '579', '4.5', '4.5', '9.24.12', '9+', 'Games', '38', '5', '18', '1']\n",
      "\n",
      "\n",
      "Number of rows: 7197\n",
      "Number of columns: 16\n"
     ]
    }
   ],
   "source": [
    "print('\\n')\n",
    "print(apple_header)\n",
    "print('\\n')\n",
    "explore_data(apple_apps,0,3,True)"
   ]
  },
  {
   "cell_type": "markdown",
   "metadata": {},
   "source": [
    "**Tabular Description of Apple Apps Columns**\n",
    "\n",
    "|Column|Description|\n",
    "|:----:|:---------:|\n",
    "|id|App ID|\n",
    "|track_name|App Name|\n",
    "|size_bytes|Size(in Bytes)|\n",
    "|currency|Currency Type|\n",
    "|price|Price Amount|\n",
    "|rating_count_tot|User Rating counts(for all versions)|\n",
    "|rating_count_ver|User Rating counts(for current version)|\n",
    "|user_rating|Average User Rating value(for all versions)|\n",
    "|user_rating_ver|Average User Rating value(for current version)|\n",
    "|ver|Last Version Code|\n",
    "|cont_rating|Content Rating|\n",
    "|prime_genre|Primary Genre|\n",
    "|sup_devices.num|Number of Supporting Devices|\n",
    "|ipadSc_urls.num|Number of Screenshots Shown for Display|\n",
    "|lang.num|Number of Supported Languages|\n",
    "|vpp_lic|VPP Device Based Licensing Enabled|"
   ]
  },
  {
   "cell_type": "markdown",
   "metadata": {},
   "source": [
    "## Data Cleaning\n",
    "### Inaccurate Data\n",
    "In the discussion section of the Google Play Store dataset, one of the Kaggle users points out a [mistake](https://www.kaggle.com/lava18/google-play-store-apps/discussion/66015) in the entry \\#10472: rating for this observation is missing. "
   ]
  },
  {
   "cell_type": "code",
   "execution_count": 218,
   "metadata": {
    "collapsed": false,
    "scrolled": true
   },
   "outputs": [
    {
     "name": "stdout",
     "output_type": "stream",
     "text": [
      "['Life Made WI-Fi Touchscreen Photo Frame', '1.9', '19', '3.0M', '1,000+', 'Free', '0', 'Everyone', '', 'February 11, 2018', '1.0.19', '4.0 and up']\n"
     ]
    }
   ],
   "source": [
    "#checking if the user entry accounts for header row\n",
    "print(google_apps[10472])"
   ]
  },
  {
   "cell_type": "markdown",
   "metadata": {},
   "source": [
    "Looking at the above output, we can see that rating is not missing from the entry, but the category is not recorded which causes a shift in the columns. For this reason, I will exclude the row from the observation."
   ]
  },
  {
   "cell_type": "code",
   "execution_count": 219,
   "metadata": {
    "collapsed": false
   },
   "outputs": [],
   "source": [
    "del google_apps[10472]"
   ]
  },
  {
   "cell_type": "markdown",
   "metadata": {
    "collapsed": true
   },
   "source": [
    "### Duplicate Google App Entries\n",
    "The second issue with the Google dataset is it contains dupplicates. To verify that the issue does indeed exist, I will count them below:"
   ]
  },
  {
   "cell_type": "code",
   "execution_count": 220,
   "metadata": {
    "collapsed": false
   },
   "outputs": [
    {
     "name": "stdout",
     "output_type": "stream",
     "text": [
      "The number of dupplicate Google apps is 1181\n"
     ]
    }
   ],
   "source": [
    "dupplicate_g_apps = []\n",
    "unique_g_apps = []\n",
    "\n",
    "for app in google_apps:\n",
    "    name = app[0]\n",
    "    if name in unique_g_apps:\n",
    "        dupplicate_g_apps.append(name)\n",
    "    else:\n",
    "        unique_g_apps.append(name)\n",
    "print(\"The number of dupplicate Google apps is\",len(dupplicate_g_apps))"
   ]
  },
  {
   "cell_type": "markdown",
   "metadata": {},
   "source": [
    "To deal with dupplicates, I will remove them and keep the observation with the largest number of reviews. The more reviews an observation has, the more recent it is.\n",
    "\n",
    "I will start off by creating an empty dictionary. In this dictionary, I will list maximum reviews for each Google Store application."
   ]
  },
  {
   "cell_type": "code",
   "execution_count": 221,
   "metadata": {
    "collapsed": false
   },
   "outputs": [],
   "source": [
    "#Start off by creating an empty dictionary\n",
    "reviews_max = {}\n",
    "\n",
    "for app in google_apps:\n",
    "    name = app[0]\n",
    "    n_reviews = float(app[3])\n",
    "    if (name in reviews_max)and(reviews_max[name]<n_reviews):\n",
    "        reviews_max[name] = n_reviews\n",
    "    elif (name not in reviews_max):\n",
    "        reviews_max[name] = n_reviews"
   ]
  },
  {
   "cell_type": "markdown",
   "metadata": {},
   "source": [
    "In the next step, I create two empty lists. The first list will include information for each app with no dupplicates. The second list the names of each app in Google Play Store. "
   ]
  },
  {
   "cell_type": "code",
   "execution_count": 222,
   "metadata": {
    "collapsed": false
   },
   "outputs": [
    {
     "name": "stdout",
     "output_type": "stream",
     "text": [
      "9659\n"
     ]
    }
   ],
   "source": [
    "#Create two new lists\n",
    "android_clean = []\n",
    "already_added = []\n",
    "\n",
    "for app in google_apps:\n",
    "    name = app[0]\n",
    "    n_reviews = float(app[3])\n",
    "    if (n_reviews == reviews_max[name])and (name not in already_added):\n",
    "        android_clean.append(app)\n",
    "        already_added.append(name)\n",
    "print(len(android_clean))"
   ]
  },
  {
   "cell_type": "markdown",
   "metadata": {},
   "source": [
    "### Non-English Speaking Apps\n",
    "In the introduction, I stated that I would like to analyze only those apps that are designed for an English speaking audience. Both apple_apps and android_clean lists contain apps which are not intended for an English speaking audience. For example:"
   ]
  },
  {
   "cell_type": "code",
   "execution_count": 223,
   "metadata": {
    "collapsed": false
   },
   "outputs": [
    {
     "name": "stdout",
     "output_type": "stream",
     "text": [
      "爱奇艺PPS -《欢乐颂2》电视剧热播\n",
      "中国語 AQリスニング\n"
     ]
    }
   ],
   "source": [
    "print(apple_apps[813][1])\n",
    "print(android_clean[4412][0])"
   ]
  },
  {
   "cell_type": "markdown",
   "metadata": {},
   "source": [
    "To exclude non-English speaking apps, I will create a custom function. In Python, each character is assigned to a number. The numbers, which correspond to the characters we use in English, are in the range 0 to 127. This information comes from ASCII (American Standard Code for Information Interchange) system. That being said, my function will check if the name of an app contains characters whose number is greater than 127 and if it does, then I will remove that app from the list as it is likely to be non-English speaking"
   ]
  },
  {
   "cell_type": "code",
   "execution_count": 224,
   "metadata": {
    "collapsed": false
   },
   "outputs": [
    {
     "name": "stdout",
     "output_type": "stream",
     "text": [
      "True\n",
      "False\n",
      "False\n",
      "False\n"
     ]
    }
   ],
   "source": [
    "def english_check(name):\n",
    "    english = True \n",
    "    for character in name:\n",
    "        if ord(character) > 127:\n",
    "            english = False \n",
    "    return english\n",
    "print(english_check('Instagram'))\n",
    "print(english_check('爱奇艺PPS -《欢乐颂2》电视剧热播'))\n",
    "print(english_check('Docs To Go™ Free Office Suite'))\n",
    "print(english_check('Instachat 😜'))"
   ]
  },
  {
   "cell_type": "markdown",
   "metadata": {},
   "source": [
    "In its current state, my custom function cannot correctly detect English apps whose names include emojis and special characters. Emojis and special characters fall outside the ASCII range"
   ]
  },
  {
   "cell_type": "code",
   "execution_count": 225,
   "metadata": {
    "collapsed": false
   },
   "outputs": [
    {
     "name": "stdout",
     "output_type": "stream",
     "text": [
      "8482\n",
      "128540\n"
     ]
    }
   ],
   "source": [
    "print(ord('™'))\n",
    "print(ord('😜'))"
   ]
  },
  {
   "cell_type": "markdown",
   "metadata": {},
   "source": [
    "One solution is to exclude only those apps whose name comprises of more than 3 non-English characters. While this approach may not produce perfect results, it will minimize data loss"
   ]
  },
  {
   "cell_type": "code",
   "execution_count": 226,
   "metadata": {
    "collapsed": false
   },
   "outputs": [
    {
     "name": "stdout",
     "output_type": "stream",
     "text": [
      "True\n",
      "False\n",
      "True\n",
      "True\n"
     ]
    }
   ],
   "source": [
    "def english_check(name):\n",
    "    english = True \n",
    "    count = 0\n",
    "    for character in name:\n",
    "        if ord(character) > 127:\n",
    "            count = count + 1 \n",
    "        if count > 3:\n",
    "            english = False \n",
    "    return english\n",
    "print(english_check('Instagram'))\n",
    "print(english_check('爱奇艺PPS -《欢乐颂2》电视剧热播'))\n",
    "print(english_check('Docs To Go™ Free Office Suite'))\n",
    "print(english_check('Instachat 😜'))"
   ]
  },
  {
   "cell_type": "markdown",
   "metadata": {},
   "source": [
    "We are now ready to filter out non-English speaking google and apple apps. "
   ]
  },
  {
   "cell_type": "code",
   "execution_count": 227,
   "metadata": {
    "collapsed": false
   },
   "outputs": [
    {
     "name": "stdout",
     "output_type": "stream",
     "text": [
      "9614\n",
      "6183\n"
     ]
    }
   ],
   "source": [
    "clean_google = []\n",
    "clean_apple = []\n",
    "\n",
    "for app in android_clean:\n",
    "    name = app[0]\n",
    "    if english_check(name):\n",
    "        clean_google.append(app)\n",
    "for app in apple_apps:\n",
    "    name = app[1]\n",
    "    if english_check(name):\n",
    "        clean_apple.append(app)\n",
    "#number of google apps remaining        \n",
    "print(len(clean_google))\n",
    "#number of ios apps remaining\n",
    "print(len(clean_apple))"
   ]
  },
  {
   "cell_type": "markdown",
   "metadata": {},
   "source": [
    "### Extracting Free Apps\n",
    "We are now ready to narrow down our lists to free apps. "
   ]
  },
  {
   "cell_type": "code",
   "execution_count": 228,
   "metadata": {
    "collapsed": false
   },
   "outputs": [
    {
     "name": "stdout",
     "output_type": "stream",
     "text": [
      "8864\n",
      "3222\n"
     ]
    }
   ],
   "source": [
    "free_google = []\n",
    "free_apple = []\n",
    "\n",
    "for app in clean_google:\n",
    "    price = app[7]\n",
    "    if price == '0':\n",
    "        free_google.append(app)\n",
    "for app in clean_apple:\n",
    "    price = float(app[4])\n",
    "    if price == 0:\n",
    "        free_apple.append(app)\n",
    "print(len(free_google))\n",
    "print(len(free_apple))"
   ]
  },
  {
   "cell_type": "markdown",
   "metadata": {
    "collapsed": true
   },
   "source": [
    "## Data Analysis\n",
    "### Generate Frequency Tables\n",
    "Now that the data is clean, I am ready to find the most successful genres of apps on both Google Play Store and Apple Store. To do this, I will build a frequency table for the **prime_genre** column of the Apple Store dataset and for the **Genres** and **Category** columns of the Google Play Store dataset. \n",
    "\n",
    "I will build 2 custom functions to generate and analyze a frequency table:\n",
    "\n",
    "- The first function will produce a frequency table and convert frequency to percentages\n",
    "\n",
    "- The second function will present the percentages in a descending order"
   ]
  },
  {
   "cell_type": "code",
   "execution_count": 229,
   "metadata": {
    "collapsed": false
   },
   "outputs": [],
   "source": [
    "# first function\n",
    "def freq_table(dataset, index):\n",
    "    dictionary = {}\n",
    "    for row in dataset:\n",
    "        genre = row[index]\n",
    "        if genre in dictionary:\n",
    "            dictionary[genre] += 1\n",
    "        else:\n",
    "            dictionary[genre] = 1\n",
    "    for genre in dictionary:\n",
    "        #transform frequency into percentage\n",
    "        dictionary[genre] = (dictionary[genre]/len(dataset))*100\n",
    "    return dictionary\n",
    "#second function\n",
    "def display_table(dataset, index):\n",
    "    table = freq_table(dataset, index)\n",
    "    table_display = []\n",
    "    for key in table:\n",
    "        #convert the dictionary into a list of tuples\n",
    "        key_val_as_tuple = (table[key], key)\n",
    "        table_display.append(key_val_as_tuple)\n",
    "    #organize percentages into descending order\n",
    "    table_sorted = sorted(table_display, reverse = True)\n",
    "    for entry in table_sorted:\n",
    "        print(entry[1], ':', entry[0])"
   ]
  },
  {
   "cell_type": "markdown",
   "metadata": {},
   "source": [
    "### Quick Visual Scan of App Genres in App Store"
   ]
  },
  {
   "cell_type": "code",
   "execution_count": 230,
   "metadata": {
    "collapsed": false
   },
   "outputs": [
    {
     "name": "stdout",
     "output_type": "stream",
     "text": [
      "Games : 58.16263190564867\n",
      "Entertainment : 7.883302296710118\n",
      "Photo & Video : 4.9658597144630665\n",
      "Education : 3.662321539416512\n",
      "Social Networking : 3.2898820608317814\n",
      "Shopping : 2.60707635009311\n",
      "Utilities : 2.5139664804469275\n",
      "Sports : 2.1415270018621975\n",
      "Music : 2.0484171322160147\n",
      "Health & Fitness : 2.0173805090006205\n",
      "Productivity : 1.7380509000620732\n",
      "Lifestyle : 1.5828677839851024\n",
      "News : 1.3345747982619491\n",
      "Travel : 1.2414649286157666\n",
      "Finance : 1.1173184357541899\n",
      "Weather : 0.8690254500310366\n",
      "Food & Drink : 0.8069522036002483\n",
      "Reference : 0.5586592178770949\n",
      "Business : 0.5276225946617008\n",
      "Book : 0.4345127250155183\n",
      "Navigation : 0.186219739292365\n",
      "Medical : 0.186219739292365\n",
      "Catalogs : 0.12414649286157665\n"
     ]
    }
   ],
   "source": [
    "display_table(free_apple,-5)"
   ]
  },
  {
   "cell_type": "markdown",
   "metadata": {},
   "source": [
    "The most popular genre of apps in Apple Store are **Games** followed by **Entertainment** and **Photo & Video**. **Games** dominate the Apple Store market by a very tremendous margin. In terms of frequency, most of the genres are clustered close together so the standard deviation would have to be small. Since the entertainment genre captures more than 60% of the market, we can conjecture that the entertainment industry has the biggest user base. I will test this hypothesis later in the project. \n",
    "\n",
    "### Quick Visual Scan of App Genres in Google Play Store"
   ]
  },
  {
   "cell_type": "code",
   "execution_count": 231,
   "metadata": {
    "collapsed": false
   },
   "outputs": [
    {
     "name": "stdout",
     "output_type": "stream",
     "text": [
      "Tools : 8.449909747292418\n",
      "Entertainment : 6.069494584837545\n",
      "Education : 5.347472924187725\n",
      "Business : 4.591606498194946\n",
      "Productivity : 3.892148014440433\n",
      "Lifestyle : 3.892148014440433\n",
      "Finance : 3.7003610108303246\n",
      "Medical : 3.531137184115524\n",
      "Sports : 3.463447653429603\n",
      "Personalization : 3.3167870036101084\n",
      "Communication : 3.2378158844765346\n",
      "Action : 3.1024368231046933\n",
      "Health & Fitness : 3.0798736462093865\n",
      "Photography : 2.944494584837545\n",
      "News & Magazines : 2.7978339350180503\n",
      "Social : 2.6624548736462095\n",
      "Travel & Local : 2.3240072202166067\n",
      "Shopping : 2.2450361010830324\n",
      "Books & Reference : 2.1435018050541514\n",
      "Simulation : 2.0419675090252705\n",
      "Dating : 1.861462093862816\n",
      "Arcade : 1.8501805054151623\n",
      "Video Players & Editors : 1.7712093862815883\n",
      "Casual : 1.7599277978339352\n",
      "Maps & Navigation : 1.3989169675090252\n",
      "Food & Drink : 1.2409747292418771\n",
      "Puzzle : 1.128158844765343\n",
      "Racing : 0.9927797833935018\n",
      "Role Playing : 0.9363718411552346\n",
      "Libraries & Demo : 0.9363718411552346\n",
      "Auto & Vehicles : 0.9250902527075812\n",
      "Strategy : 0.9138086642599278\n",
      "House & Home : 0.8235559566787004\n",
      "Weather : 0.8009927797833934\n",
      "Events : 0.7107400722021661\n",
      "Adventure : 0.6768953068592057\n",
      "Comics : 0.6092057761732852\n",
      "Beauty : 0.5979241877256317\n",
      "Art & Design : 0.5979241877256317\n",
      "Parenting : 0.4963898916967509\n",
      "Card : 0.45126353790613716\n",
      "Casino : 0.42870036101083037\n",
      "Trivia : 0.41741877256317694\n",
      "Educational;Education : 0.39485559566787\n",
      "Board : 0.3835740072202166\n",
      "Educational : 0.3722924187725632\n",
      "Education;Education : 0.33844765342960287\n",
      "Word : 0.2594765342960289\n",
      "Casual;Pretend Play : 0.236913357400722\n",
      "Music : 0.2030685920577617\n",
      "Racing;Action & Adventure : 0.16922382671480143\n",
      "Puzzle;Brain Games : 0.16922382671480143\n",
      "Entertainment;Music & Video : 0.16922382671480143\n",
      "Casual;Brain Games : 0.13537906137184114\n",
      "Casual;Action & Adventure : 0.13537906137184114\n",
      "Arcade;Action & Adventure : 0.12409747292418773\n",
      "Action;Action & Adventure : 0.10153429602888085\n",
      "Educational;Pretend Play : 0.09025270758122744\n",
      "Simulation;Action & Adventure : 0.078971119133574\n",
      "Parenting;Education : 0.078971119133574\n",
      "Entertainment;Brain Games : 0.078971119133574\n",
      "Board;Brain Games : 0.078971119133574\n",
      "Parenting;Music & Video : 0.06768953068592057\n",
      "Educational;Brain Games : 0.06768953068592057\n",
      "Casual;Creativity : 0.06768953068592057\n",
      "Art & Design;Creativity : 0.06768953068592057\n",
      "Education;Pretend Play : 0.056407942238267145\n",
      "Role Playing;Pretend Play : 0.04512635379061372\n",
      "Education;Creativity : 0.04512635379061372\n",
      "Role Playing;Action & Adventure : 0.033844765342960284\n",
      "Puzzle;Action & Adventure : 0.033844765342960284\n",
      "Entertainment;Creativity : 0.033844765342960284\n",
      "Entertainment;Action & Adventure : 0.033844765342960284\n",
      "Educational;Creativity : 0.033844765342960284\n",
      "Educational;Action & Adventure : 0.033844765342960284\n",
      "Education;Music & Video : 0.033844765342960284\n",
      "Education;Brain Games : 0.033844765342960284\n",
      "Education;Action & Adventure : 0.033844765342960284\n",
      "Adventure;Action & Adventure : 0.033844765342960284\n",
      "Video Players & Editors;Music & Video : 0.02256317689530686\n",
      "Sports;Action & Adventure : 0.02256317689530686\n",
      "Simulation;Pretend Play : 0.02256317689530686\n",
      "Puzzle;Creativity : 0.02256317689530686\n",
      "Music;Music & Video : 0.02256317689530686\n",
      "Entertainment;Pretend Play : 0.02256317689530686\n",
      "Casual;Education : 0.02256317689530686\n",
      "Board;Action & Adventure : 0.02256317689530686\n",
      "Video Players & Editors;Creativity : 0.01128158844765343\n",
      "Trivia;Education : 0.01128158844765343\n",
      "Travel & Local;Action & Adventure : 0.01128158844765343\n",
      "Tools;Education : 0.01128158844765343\n",
      "Strategy;Education : 0.01128158844765343\n",
      "Strategy;Creativity : 0.01128158844765343\n",
      "Strategy;Action & Adventure : 0.01128158844765343\n",
      "Simulation;Education : 0.01128158844765343\n",
      "Role Playing;Brain Games : 0.01128158844765343\n",
      "Racing;Pretend Play : 0.01128158844765343\n",
      "Puzzle;Education : 0.01128158844765343\n",
      "Parenting;Brain Games : 0.01128158844765343\n",
      "Music & Audio;Music & Video : 0.01128158844765343\n",
      "Lifestyle;Pretend Play : 0.01128158844765343\n",
      "Lifestyle;Education : 0.01128158844765343\n",
      "Health & Fitness;Education : 0.01128158844765343\n",
      "Health & Fitness;Action & Adventure : 0.01128158844765343\n",
      "Entertainment;Education : 0.01128158844765343\n",
      "Communication;Creativity : 0.01128158844765343\n",
      "Comics;Creativity : 0.01128158844765343\n",
      "Casual;Music & Video : 0.01128158844765343\n",
      "Card;Action & Adventure : 0.01128158844765343\n",
      "Books & Reference;Education : 0.01128158844765343\n",
      "Art & Design;Pretend Play : 0.01128158844765343\n",
      "Art & Design;Action & Adventure : 0.01128158844765343\n",
      "Arcade;Pretend Play : 0.01128158844765343\n",
      "Adventure;Education : 0.01128158844765343\n"
     ]
    }
   ],
   "source": [
    "display_table(free_google,-4)"
   ]
  },
  {
   "cell_type": "markdown",
   "metadata": {},
   "source": [
    "The first thing to notice is that the google dataset contains significantly more genres than the apple dataset. This has to do with the fact that similar genres are not aggregated into a single broad group. Given this arrangement of apps, **entertainment** industry is still the runner up in terms of popularity while **tools** sits at the top of the Google Play Store market; however, **tools** are not as astronmically popular in the Google Play Store as **games** are in the Apple Store. In terms of volume, the distribution is narrow and pretty even across the board.\n",
    "### Quick Visual Scan of  App Categories in Google Play Store "
   ]
  },
  {
   "cell_type": "code",
   "execution_count": 232,
   "metadata": {
    "collapsed": false
   },
   "outputs": [
    {
     "name": "stdout",
     "output_type": "stream",
     "text": [
      "FAMILY : 18.907942238267147\n",
      "GAME : 9.724729241877256\n",
      "TOOLS : 8.461191335740072\n",
      "BUSINESS : 4.591606498194946\n",
      "LIFESTYLE : 3.9034296028880866\n",
      "PRODUCTIVITY : 3.892148014440433\n",
      "FINANCE : 3.7003610108303246\n",
      "MEDICAL : 3.531137184115524\n",
      "SPORTS : 3.395758122743682\n",
      "PERSONALIZATION : 3.3167870036101084\n",
      "COMMUNICATION : 3.2378158844765346\n",
      "HEALTH_AND_FITNESS : 3.0798736462093865\n",
      "PHOTOGRAPHY : 2.944494584837545\n",
      "NEWS_AND_MAGAZINES : 2.7978339350180503\n",
      "SOCIAL : 2.6624548736462095\n",
      "TRAVEL_AND_LOCAL : 2.33528880866426\n",
      "SHOPPING : 2.2450361010830324\n",
      "BOOKS_AND_REFERENCE : 2.1435018050541514\n",
      "DATING : 1.861462093862816\n",
      "VIDEO_PLAYERS : 1.7937725631768955\n",
      "MAPS_AND_NAVIGATION : 1.3989169675090252\n",
      "FOOD_AND_DRINK : 1.2409747292418771\n",
      "EDUCATION : 1.1620036101083033\n",
      "ENTERTAINMENT : 0.9589350180505415\n",
      "LIBRARIES_AND_DEMO : 0.9363718411552346\n",
      "AUTO_AND_VEHICLES : 0.9250902527075812\n",
      "HOUSE_AND_HOME : 0.8235559566787004\n",
      "WEATHER : 0.8009927797833934\n",
      "EVENTS : 0.7107400722021661\n",
      "PARENTING : 0.6543321299638989\n",
      "ART_AND_DESIGN : 0.6430505415162455\n",
      "COMICS : 0.6204873646209386\n",
      "BEAUTY : 0.5979241877256317\n"
     ]
    }
   ],
   "source": [
    "display_table(free_google,1)"
   ]
  },
  {
   "cell_type": "markdown",
   "metadata": {
    "collapsed": true
   },
   "source": [
    "The number of categories is substantially less than the number of genres in the Google Play Store dataset. There is a significant shake up in the rankings of categories in terms of their frequency. **Family** apps overtake close to a 1/5th of Google Play Store market share. **Games** take up second biggest portion of the Google Play Store pie. \n",
    "\n",
    "So far, it seems like **entertainment** apps might be the most popular ones amongst users based on the numbers that exist in the Google Play Store and Apple Store space. In the next section, I will verify if that is indeed the case. \n",
    "\n",
    "### Most Popular Apps in Apple Store By Genre\n",
    "\n",
    "One way to identify the genre of apps that is the most successful in the Apple Store market is to compute the average number of installs for each app genre. Unfortunately, the Apple Store dataset does not contain information on the number of installs. Yet, what I can do is use total number of user ratings(**rating_count_tot**) as a proxy. So, I will go ahead and calculate the average number of user ratings for each genre. \n"
   ]
  },
  {
   "cell_type": "code",
   "execution_count": 233,
   "metadata": {
    "collapsed": false
   },
   "outputs": [
    {
     "name": "stdout",
     "output_type": "stream",
     "text": [
      "Lifestyle 16485.764705882353\n",
      "Travel 28243.8\n",
      "News 21248.023255813954\n",
      "Productivity 21028.410714285714\n",
      "Navigation 86090.33333333333\n",
      "Shopping 26919.690476190477\n",
      "Music 57326.530303030304\n",
      "Utilities 18684.456790123455\n",
      "Weather 52279.892857142855\n",
      "Book 39758.5\n",
      "Food & Drink 33333.92307692308\n",
      "Sports 23008.898550724636\n",
      "Catalogs 4004.0\n",
      "Finance 31467.944444444445\n",
      "Education 7003.983050847458\n",
      "Business 7491.117647058823\n",
      "Entertainment 14029.830708661417\n",
      "Social Networking 71548.34905660378\n",
      "Photo & Video 28441.54375\n",
      "Health & Fitness 23298.015384615384\n",
      "Reference 74942.11111111111\n",
      "Medical 612.0\n",
      "Games 22788.6696905016\n"
     ]
    }
   ],
   "source": [
    "#generating frequency table for the prime_genre column\n",
    "apple_genre = freq_table(free_apple,-5)\n",
    "for genre in apple_genre:\n",
    "    total = 0\n",
    "    len_genre = 0\n",
    "    for app in free_apple:\n",
    "        genre_app = app[-5]\n",
    "        if genre_app == genre:\n",
    "            user_ratings = float(app[5])\n",
    "            total += user_ratings\n",
    "            len_genre += 1\n",
    "    avg_rating = total/len_genre\n",
    "    print(genre,avg_rating)"
   ]
  },
  {
   "cell_type": "markdown",
   "metadata": {},
   "source": [
    "According to the results, **Navigation** is the most popular app genre on Apple Store. This comes across as a surprise. Let's take a closer look at the user ratings of every app in the genre:"
   ]
  },
  {
   "cell_type": "code",
   "execution_count": 234,
   "metadata": {
    "collapsed": false
   },
   "outputs": [
    {
     "name": "stdout",
     "output_type": "stream",
     "text": [
      "Waze - GPS Navigation, Maps & Real-time Traffic : 345046\n",
      "Google Maps - Navigation & Transit : 154911\n",
      "Geocaching® : 12811\n",
      "CoPilot GPS – Car Navigation & Offline Maps : 3582\n",
      "ImmobilienScout24: Real Estate Search in Germany : 187\n",
      "Railway Route Search : 5\n"
     ]
    }
   ],
   "source": [
    "for app in free_apple:\n",
    "    genre = app[-5]\n",
    "    if genre == \"Navigation\":\n",
    "        print(app[1],\":\",app[5])"
   ]
  },
  {
   "cell_type": "markdown",
   "metadata": {},
   "source": [
    "As we can see, Waze and Google Maps heavily skew the average user ratings in the positive direction for the **Navigation** apps. Thus,on average a **Navigation** app may not be the most popular one in the Apple Store after all. The second most popular apps by genre belong to **Social Networking**. Let's check it out up close:"
   ]
  },
  {
   "cell_type": "code",
   "execution_count": 235,
   "metadata": {
    "collapsed": false
   },
   "outputs": [
    {
     "name": "stdout",
     "output_type": "stream",
     "text": [
      "Facebook : 2974676\n",
      "Pinterest : 1061624\n",
      "Skype for iPhone : 373519\n",
      "Messenger : 351466\n",
      "Tumblr : 334293\n",
      "WhatsApp Messenger : 287589\n",
      "Kik : 260965\n",
      "ooVoo – Free Video Call, Text and Voice : 177501\n",
      "TextNow - Unlimited Text + Calls : 164963\n",
      "Viber Messenger – Text & Call : 164249\n",
      "Followers - Social Analytics For Instagram : 112778\n",
      "MeetMe - Chat and Meet New People : 97072\n",
      "We Heart It - Fashion, wallpapers, quotes, tattoos : 90414\n",
      "InsTrack for Instagram - Analytics Plus More : 85535\n",
      "Tango - Free Video Call, Voice and Chat : 75412\n",
      "LinkedIn : 71856\n",
      "Match™ - #1 Dating App. : 60659\n",
      "Skype for iPad : 60163\n",
      "POF - Best Dating App for Conversations : 52642\n",
      "Timehop : 49510\n",
      "Find My Family, Friends & iPhone - Life360 Locator : 43877\n",
      "Whisper - Share, Express, Meet : 39819\n",
      "Hangouts : 36404\n",
      "LINE PLAY - Your Avatar World : 34677\n",
      "WeChat : 34584\n",
      "Badoo - Meet New People, Chat, Socialize. : 34428\n",
      "Followers + for Instagram - Follower Analytics : 28633\n",
      "GroupMe : 28260\n",
      "Marco Polo Video Walkie Talkie : 27662\n",
      "Miitomo : 23965\n",
      "SimSimi : 23530\n",
      "Grindr - Gay and same sex guys chat, meet and date : 23201\n",
      "Wishbone - Compare Anything : 20649\n",
      "imo video calls and chat : 18841\n",
      "After School - Funny Anonymous School News : 18482\n",
      "Quick Reposter - Repost, Regram and Reshare Photos : 17694\n",
      "Weibo HD : 16772\n",
      "Repost for Instagram : 15185\n",
      "Live.me – Live Video Chat & Make Friends Nearby : 14724\n",
      "Nextdoor : 14402\n",
      "Followers Analytics for Instagram - InstaReport : 13914\n",
      "YouNow: Live Stream Video Chat : 12079\n",
      "FollowMeter for Instagram - Followers Tracking : 11976\n",
      "LINE : 11437\n",
      "eHarmony™ Dating App - Meet Singles : 11124\n",
      "Discord - Chat for Gamers : 9152\n",
      "QQ : 9109\n",
      "Telegram Messenger : 7573\n",
      "Weibo : 7265\n",
      "Periscope - Live Video Streaming Around the World : 6062\n",
      "Chat for Whatsapp - iPad Version : 5060\n",
      "QQ HD : 5058\n",
      "Followers Analysis Tool For Instagram App Free : 4253\n",
      "live.ly - live video streaming : 4145\n",
      "Houseparty - Group Video Chat : 3991\n",
      "SOMA Messenger : 3232\n",
      "Monkey : 3060\n",
      "Down To Lunch : 2535\n",
      "Flinch - Video Chat Staring Contest : 2134\n",
      "Highrise - Your Avatar Community : 2011\n",
      "LOVOO - Dating Chat : 1985\n",
      "PlayStation®Messages : 1918\n",
      "BOO! - Video chat camera with filters & stickers : 1805\n",
      "Qzone : 1649\n",
      "Chatous - Chat with new people : 1609\n",
      "Kiwi - Q&A : 1538\n",
      "GhostCodes - a discovery app for Snapchat : 1313\n",
      "Jodel : 1193\n",
      "FireChat : 1037\n",
      "Google Duo - simple video calling : 1033\n",
      "Fiesta by Tango - Chat & Meet New People : 885\n",
      "Google Allo — smart messaging : 862\n",
      "Peach — share vividly : 727\n",
      "Hey! VINA - Where Women Meet New Friends : 719\n",
      "Battlefield™ Companion : 689\n",
      "All Devices for WhatsApp - Messenger for iPad : 682\n",
      "Chat for Pokemon Go - GoChat : 500\n",
      "IAmNaughty – Dating App to Meet New People Online : 463\n",
      "Qzone HD : 458\n",
      "Zenly - Locate your friends in realtime : 427\n",
      "League of Legends Friends : 420\n",
      "豆瓣 : 407\n",
      "Candid - Speak Your Mind Freely : 398\n",
      "知乎 : 397\n",
      "Selfeo : 366\n",
      "Fake-A-Location Free ™ : 354\n",
      "Popcorn Buzz - Free Group Calls : 281\n",
      "Fam — Group video calling for iMessage : 279\n",
      "QQ International : 274\n",
      "Ameba : 269\n",
      "SoundCloud Pulse: for creators : 240\n",
      "Tantan : 235\n",
      "Cougar Dating & Life Style App for Mature Women : 213\n",
      "Rawr Messenger - Dab your chat : 180\n",
      "WhenToPost: Best Time to Post Photos for Instagram : 158\n",
      "Inke—Broadcast an amazing life : 147\n",
      "Mustknow - anonymous video Q&A : 53\n",
      "CTFxCmoji : 39\n",
      "Lobi : 36\n",
      "Chain: Collaborate On MyVideo Story/Group Video : 35\n",
      "botman - Real time video chat : 7\n",
      "BestieBox : 0\n",
      "MATCH ON LINE chat : 0\n",
      "niconico ch : 0\n",
      "LINE BLOG : 0\n",
      "bit-tube - Live Stream Video Chat : 0\n"
     ]
    }
   ],
   "source": [
    "for app in free_apple:\n",
    "    genre = app[-5]\n",
    "    if genre == \"Social Networking\":\n",
    "        print(app[1],\":\",app[5])"
   ]
  },
  {
   "cell_type": "markdown",
   "metadata": {},
   "source": [
    "The distribution of **Social Networking** apps is uneven in terms of total user ratings: either a **Social Networking** app is extremely successful or utterly unknown. Nevertheless, I would say there is still a substantial amount of apps that are able to produce a tremendous user base. That being said, I would say on average **Social Networking** apps are the most popular ones on the Apple Store.\n",
    "\n",
    "### Most Popular Genre Apps on Google Play Store\n",
    "\n",
    "Unlike the Apple Store dataset, the Google Play Store dataset does record information on the number of installs. "
   ]
  },
  {
   "cell_type": "code",
   "execution_count": 236,
   "metadata": {
    "collapsed": false
   },
   "outputs": [
    {
     "name": "stdout",
     "output_type": "stream",
     "text": [
      "1,000,000+ : 15.726534296028879\n",
      "100,000+ : 11.552346570397113\n",
      "10,000,000+ : 10.548285198555957\n",
      "10,000+ : 10.198555956678701\n",
      "1,000+ : 8.393501805054152\n",
      "100+ : 6.915613718411552\n",
      "5,000,000+ : 6.825361010830325\n",
      "500,000+ : 5.561823104693141\n",
      "50,000+ : 4.7721119133574\n",
      "5,000+ : 4.512635379061372\n",
      "10+ : 3.5424187725631766\n",
      "500+ : 3.2490974729241873\n",
      "50,000,000+ : 2.3014440433213\n",
      "100,000,000+ : 2.1322202166064983\n",
      "50+ : 1.917870036101083\n",
      "5+ : 0.78971119133574\n",
      "1+ : 0.5076714801444043\n",
      "500,000,000+ : 0.2707581227436823\n",
      "1,000,000,000+ : 0.22563176895306858\n",
      "0+ : 0.04512635379061372\n",
      "0 : 0.01128158844765343\n"
     ]
    }
   ],
   "source": [
    "display_table(free_google,5)"
   ]
  },
  {
   "cell_type": "markdown",
   "metadata": {},
   "source": [
    "The datat is not very accurate. For example, 100,000+ does not tell us whether an app has 900,000 installs or 100,000 installs; however, that is okay for what I am trying to accomplish in this project. I will leave the numbers unchanged. Currently, they are stored in the dataset as strings and I need to change them to a float type as I need to compute the average number of installs for each genre of apps."
   ]
  },
  {
   "cell_type": "code",
   "execution_count": 237,
   "metadata": {
    "collapsed": false
   },
   "outputs": [
    {
     "name": "stdout",
     "output_type": "stream",
     "text": [
      "TOOLS : 10801391.298666667\n",
      "SPORTS : 3638640.1428571427\n",
      "MEDICAL : 120550.61980830671\n",
      "BOOKS_AND_REFERENCE : 8767811.894736841\n",
      "FINANCE : 1387692.475609756\n",
      "ENTERTAINMENT : 11640705.88235294\n",
      "SOCIAL : 23253652.127118643\n",
      "BUSINESS : 1712290.1474201474\n",
      "COMICS : 817657.2727272727\n",
      "HOUSE_AND_HOME : 1331540.5616438356\n",
      "PRODUCTIVITY : 16787331.344927534\n",
      "BEAUTY : 513151.88679245283\n",
      "NEWS_AND_MAGAZINES : 9549178.467741935\n",
      "COMMUNICATION : 38456119.167247385\n",
      "SHOPPING : 7036877.311557789\n",
      "FAMILY : 3695641.8198090694\n",
      "TRAVEL_AND_LOCAL : 13984077.710144928\n",
      "LIBRARIES_AND_DEMO : 638503.734939759\n",
      "DATING : 854028.8303030303\n",
      "HEALTH_AND_FITNESS : 4188821.9853479853\n",
      "EVENTS : 253542.22222222222\n",
      "ART_AND_DESIGN : 1986335.0877192982\n",
      "PARENTING : 542603.6206896552\n",
      "PERSONALIZATION : 5201482.6122448975\n",
      "AUTO_AND_VEHICLES : 647317.8170731707\n",
      "PHOTOGRAPHY : 17840110.40229885\n",
      "LIFESTYLE : 1437816.2687861272\n",
      "FOOD_AND_DRINK : 1924897.7363636363\n",
      "GAME : 15588015.603248259\n",
      "MAPS_AND_NAVIGATION : 4056941.7741935486\n",
      "VIDEO_PLAYERS : 24727872.452830188\n",
      "EDUCATION : 1833495.145631068\n",
      "WEATHER : 5074486.197183099\n"
     ]
    }
   ],
   "source": [
    "google_category = freq_table(free_google,1)\n",
    "\n",
    "#Looping over each genre in Google Play Store \n",
    "for category in google_category:\n",
    "    total = 0\n",
    "    len_category =0 \n",
    "    for app in free_google:\n",
    "        app_genre = app[1]\n",
    "        if app_genre == category:\n",
    "            installs = app[5]\n",
    "            #removing + from installs string\n",
    "            installs = installs.replace('+','')\n",
    "            #removing comma from installs string\n",
    "            installs = installs.replace(',','')\n",
    "            total += float(installs)\n",
    "            len_category += 1\n",
    "    #calculating average installs for each category of apps\n",
    "    avg_installs = total/len_category\n",
    "    print(category,':',avg_installs)"
   ]
  },
  {
   "cell_type": "markdown",
   "metadata": {},
   "source": [
    "So on average, **Communication** apps have the highest installs on Google Play Store; however, just like with the Apple Store dataset, the number may be heavily skewed by giant apps like Facebook and Instagram."
   ]
  },
  {
   "cell_type": "code",
   "execution_count": 239,
   "metadata": {
    "collapsed": false
   },
   "outputs": [
    {
     "name": "stdout",
     "output_type": "stream",
     "text": [
      "Number of communication apps is 287\n",
      "\n",
      "\n",
      "WhatsApp Messenger : 1,000,000,000+\n",
      "imo beta free calls and text : 100,000,000+\n",
      "Contacts : 50,000,000+\n",
      "Android Messages : 100,000,000+\n",
      "Google Duo - High Quality Video Calls : 500,000,000+\n",
      "Messenger – Text and Video Chat for Free : 1,000,000,000+\n",
      "imo free video calls and chat : 500,000,000+\n",
      "free video calls and chat : 50,000,000+\n",
      "Skype - free IM & video calls : 1,000,000,000+\n",
      "Who : 100,000,000+\n",
      "GO SMS Pro - Messenger, Free Themes, Emoji : 100,000,000+\n",
      "LINE: Free Calls & Messages : 500,000,000+\n",
      "Google Chrome: Fast & Secure : 1,000,000,000+\n",
      "Firefox Browser fast & private : 100,000,000+\n",
      "Dolphin Browser - Fast, Private & Adblock🐬 : 50,000,000+\n",
      "UC Browser - Fast Download Private & Secure : 500,000,000+\n",
      "Gmail : 1,000,000,000+\n",
      "Mail.Ru - Email App : 50,000,000+\n",
      "Hangouts : 1,000,000,000+\n",
      "Azar : 50,000,000+\n",
      "Messenger Lite: Free Calls & Messages : 100,000,000+\n",
      "Kik : 100,000,000+\n",
      "KakaoTalk: Free Calls & Text : 100,000,000+\n",
      "Opera Mini - fast web browser : 100,000,000+\n",
      "Opera Browser: Fast and Secure : 100,000,000+\n",
      "Telegram : 100,000,000+\n",
      "Truecaller: Caller ID, SMS spam blocking & Dialer : 100,000,000+\n",
      "UC Browser Mini -Tiny Fast Private & Secure : 100,000,000+\n",
      "Viber Messenger : 500,000,000+\n",
      "WeChat : 100,000,000+\n",
      "Yahoo Mail – Stay Organized : 100,000,000+\n",
      "CM Browser - Ad Blocker , Fast Download , Privacy : 50,000,000+\n",
      "Zalo – Video Call : 50,000,000+\n",
      "BBM - Free Calls & Messages : 100,000,000+\n",
      "\n",
      "\n",
      "Number of large communication apps is 34\n"
     ]
    }
   ],
   "source": [
    "len_communication = 0\n",
    "for app in free_google:\n",
    "    category = app[1]\n",
    "    if category == \"COMMUNICATION\":\n",
    "        len_communication += 1\n",
    "print(\"Number of communication apps is\", len_communication)\n",
    "print('\\n')\n",
    "count = 0 \n",
    "for app in free_google:\n",
    "    category = app[1]\n",
    "    if category == 'COMMUNICATION' and (app[5] =='50,000,000+'\n",
    "                                        or app[5] == '100,000,000+'\n",
    "                                        or app[5] == '500,000,000+'\n",
    "                                        or app[5] == '1,000,000,000+'):\n",
    "        count += 1\n",
    "        print(app[0],':',app[5])\n",
    "print('\\n')\n",
    "print(\"Number of large communication apps is\",count)"
   ]
  },
  {
   "cell_type": "markdown",
   "metadata": {},
   "source": [
    "The number of **Communication** apps that achieve more than 34 million installs on the Google Play Store is not remarkable by any means; yet, the top 34 apps in this category attract astronomical number of consumers in the market. I would argue that deciding whether **Communication** apps on average are the most successful ones in the Google Play Store space is strictly a matter of personal judgement. Personally though, I do believe that **Communication** apps do make that cut. \n",
    "\n",
    "## Conclusion\n",
    "\n",
    "In this project, I cleaned and analyzed Google Play Store and Apple Store datasets to figure out which genre of apps is the most popular one among users in the  market. I arrived at the conclusion that social media genre of apps is the most popular one in the digital space; however, my findings hinge on a series of strong assumptions that I made throughout the project. If I did not make those assumptions, then my conclusions may have drastically differed."
   ]
  }
 ],
 "metadata": {
  "kernelspec": {
   "display_name": "Python 3",
   "language": "python",
   "name": "python3"
  },
  "language_info": {
   "codemirror_mode": {
    "name": "ipython",
    "version": 3
   },
   "file_extension": ".py",
   "mimetype": "text/x-python",
   "name": "python",
   "nbconvert_exporter": "python",
   "pygments_lexer": "ipython3",
   "version": "3.4.3"
  }
 },
 "nbformat": 4,
 "nbformat_minor": 2
}
